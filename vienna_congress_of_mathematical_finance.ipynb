{
  "nbformat": 4,
  "nbformat_minor": 0,
  "metadata": {
    "colab": {
      "name": "vienna_congress_of_mathematical_finance.ipynb",
      "provenance": [],
      "collapsed_sections": [],
      "include_colab_link": true
    },
    "kernelspec": {
      "name": "python3",
      "display_name": "Python 3"
    },
    "accelerator": "GPU"
  },
  "cells": [
    {
      "cell_type": "markdown",
      "metadata": {
        "id": "view-in-github",
        "colab_type": "text"
      },
      "source": [
        "<a href=\"https://colab.research.google.com/github/FinanceML/Resampling-Project-VCMF-Conference-/blob/main/vienna_congress_of_mathematical_finance.ipynb\" target=\"_parent\"><img src=\"https://colab.research.google.com/assets/colab-badge.svg\" alt=\"Open In Colab\"/></a>"
      ]
    },
    {
      "cell_type": "markdown",
      "metadata": {
        "id": "JhaLABJz_hFP"
      },
      "source": [
        "# Simulation"
      ]
    },
    {
      "cell_type": "code",
      "metadata": {
        "id": "jpHaMH8wSEFL",
        "colab": {
          "base_uri": "https://localhost:8080/",
          "height": 34
        },
        "outputId": "80066926-e54e-435b-df32-24f70ede1f60"
      },
      "source": [
        "from google.colab import drive\n",
        "drive.mount('/content/gdrive')\n",
        "\n",
        "import os\n",
        "os.chdir('/content/gdrive/My Drive/Colab Notebooks/')"
      ],
      "execution_count": null,
      "outputs": [
        {
          "output_type": "stream",
          "text": [
            "Drive already mounted at /content/gdrive; to attempt to forcibly remount, call drive.mount(\"/content/gdrive\", force_remount=True).\n"
          ],
          "name": "stdout"
        }
      ]
    },
    {
      "cell_type": "code",
      "metadata": {
        "id": "AqZInDxaStGk"
      },
      "source": [
        "from numpy import genfromtxt\n",
        "my_data = genfromtxt('_ds-cleaned.csv', delimiter=',')"
      ],
      "execution_count": null,
      "outputs": []
    },
    {
      "cell_type": "code",
      "metadata": {
        "id": "EiJqV-JwSzug",
        "colab": {
          "base_uri": "https://localhost:8080/",
          "height": 34
        },
        "outputId": "7b0c8e5e-8849-43d9-f707-f5fd73549b54"
      },
      "source": [
        "my_data.shape"
      ],
      "execution_count": null,
      "outputs": [
        {
          "output_type": "execute_result",
          "data": {
            "text/plain": [
              "(1763, 470)"
            ]
          },
          "metadata": {
            "tags": []
          },
          "execution_count": 127
        }
      ]
    },
    {
      "cell_type": "code",
      "metadata": {
        "id": "CqKCmfqAUZfY",
        "colab": {
          "base_uri": "https://localhost:8080/",
          "height": 34
        },
        "outputId": "29d84e99-c925-426a-d8f3-021c9fa1dae9"
      },
      "source": [
        "import numpy as np\n",
        "my_data = np.transpose(my_data)\n",
        "my_data=np.delete(my_data, (0), axis=1)\n",
        "my_data.shape"
      ],
      "execution_count": null,
      "outputs": [
        {
          "output_type": "execute_result",
          "data": {
            "text/plain": [
              "(470, 1762)"
            ]
          },
          "metadata": {
            "tags": []
          },
          "execution_count": 128
        }
      ]
    },
    {
      "cell_type": "markdown",
      "metadata": {
        "id": "TdVOEOfzkNwQ"
      },
      "source": [
        "# Returns"
      ]
    },
    {
      "cell_type": "code",
      "metadata": {
        "id": "L1rBXvVokNap",
        "colab": {
          "base_uri": "https://localhost:8080/",
          "height": 34
        },
        "outputId": "66566110-3b72-4f10-b2b1-6eab70361bdb"
      },
      "source": [
        "my_data=(my_data[:,1:]-my_data[:,:-1])/my_data[:,:-1]\n",
        "my_data.shape"
      ],
      "execution_count": null,
      "outputs": [
        {
          "output_type": "execute_result",
          "data": {
            "text/plain": [
              "(470, 1761)"
            ]
          },
          "metadata": {
            "tags": []
          },
          "execution_count": 129
        }
      ]
    },
    {
      "cell_type": "code",
      "metadata": {
        "id": "UCs5ExlT_AXG",
        "colab": {
          "base_uri": "https://localhost:8080/",
          "height": 34
        },
        "outputId": "a4a4c211-97ba-42fa-d7c1-a88f66de459c"
      },
      "source": [
        "import numpy as np\n",
        "func= np.vectorize(lambda f1,f2,f3,e: f1*(f2+f3+1)+e)\n",
        "p=470\n",
        "#p=79\n",
        "k=10\n",
        "L=3\n",
        "n=1760\n",
        "#n=201\n",
        "T=n\n",
        "m=50\n",
        "\n",
        "# alpha=np.random.uniform(low=.2, high=.8, size=[k])\n",
        "# rho=np.random.uniform(low=.2, high=.8, size=[p])\n",
        "# epsilon=np.random.normal(0,1,size=[T])\n",
        "# nu=np.random.normal(0,1,size=[p,T])\n",
        "# e=np.random.normal(0,1,size=[k,T])\n",
        "\n",
        "#F= my_data\n",
        "# for j in range(k):\n",
        "#   for t in range(1,T):\n",
        "#     F[j,t]=F[j,t-1]*alpha[j]+e[j,t]\n",
        "\n",
        "# U=np.zeros((p,T))\n",
        "# for i in range(p):\n",
        "#   for t in range(1,T):\n",
        "#     U[i,t]=U[i,t-1]*rho[i]+nu[i,t]\n",
        "\n",
        "#B=np.random.normal(0,1,size=[p,k])\n",
        "\n",
        "#y=func(F[1,],F[2,],F[3,],epsilon)\n",
        "y=my_data[3,0:-1]\n",
        "X=np.delete(my_data[1:],(3),axis=0)\n",
        "X=my_data[1:]\n",
        "y.shape"
      ],
      "execution_count": null,
      "outputs": [
        {
          "output_type": "execute_result",
          "data": {
            "text/plain": [
              "(1760,)"
            ]
          },
          "metadata": {
            "tags": []
          },
          "execution_count": 130
        }
      ]
    },
    {
      "cell_type": "markdown",
      "metadata": {
        "id": "NqiEnlHdiwcK"
      },
      "source": [
        "# Plot the Simulated Series"
      ]
    },
    {
      "cell_type": "code",
      "metadata": {
        "id": "RD8svaJpi1Kf",
        "colab": {
          "base_uri": "https://localhost:8080/",
          "height": 719
        },
        "outputId": "4a8f014c-ab0a-4c9f-ca27-7f6fce298876"
      },
      "source": [
        "import matplotlib.pyplot as plt\n",
        "fig1, ax1 = plt.subplots()\n",
        "ax1.plot(X[1,])\n",
        "ax1.plot(X[2,])\n",
        "ax1.plot(X[3,])\n",
        "np.shape(X)\n",
        "fig2, (ax2, ax3) = plt.subplots(nrows=2, ncols=1) # two axes on figure\n",
        "ax2.plot(y)\n",
        "ax3.plot(F[1,])\n",
        "\n"
      ],
      "execution_count": null,
      "outputs": [
        {
          "output_type": "error",
          "ename": "NameError",
          "evalue": "ignored",
          "traceback": [
            "\u001b[0;31m---------------------------------------------------------------------------\u001b[0m",
            "\u001b[0;31mNameError\u001b[0m                                 Traceback (most recent call last)",
            "\u001b[0;32m<ipython-input-131-deb329e9cbdb>\u001b[0m in \u001b[0;36m<module>\u001b[0;34m()\u001b[0m\n\u001b[1;32m      7\u001b[0m \u001b[0mfig2\u001b[0m\u001b[0;34m,\u001b[0m \u001b[0;34m(\u001b[0m\u001b[0max2\u001b[0m\u001b[0;34m,\u001b[0m \u001b[0max3\u001b[0m\u001b[0;34m)\u001b[0m \u001b[0;34m=\u001b[0m \u001b[0mplt\u001b[0m\u001b[0;34m.\u001b[0m\u001b[0msubplots\u001b[0m\u001b[0;34m(\u001b[0m\u001b[0mnrows\u001b[0m\u001b[0;34m=\u001b[0m\u001b[0;36m2\u001b[0m\u001b[0;34m,\u001b[0m \u001b[0mncols\u001b[0m\u001b[0;34m=\u001b[0m\u001b[0;36m1\u001b[0m\u001b[0;34m)\u001b[0m \u001b[0;31m# two axes on figure\u001b[0m\u001b[0;34m\u001b[0m\u001b[0;34m\u001b[0m\u001b[0m\n\u001b[1;32m      8\u001b[0m \u001b[0max2\u001b[0m\u001b[0;34m.\u001b[0m\u001b[0mplot\u001b[0m\u001b[0;34m(\u001b[0m\u001b[0my\u001b[0m\u001b[0;34m)\u001b[0m\u001b[0;34m\u001b[0m\u001b[0;34m\u001b[0m\u001b[0m\n\u001b[0;32m----> 9\u001b[0;31m \u001b[0max3\u001b[0m\u001b[0;34m.\u001b[0m\u001b[0mplot\u001b[0m\u001b[0;34m(\u001b[0m\u001b[0mF\u001b[0m\u001b[0;34m[\u001b[0m\u001b[0;36m1\u001b[0m\u001b[0;34m,\u001b[0m\u001b[0;34m]\u001b[0m\u001b[0;34m)\u001b[0m\u001b[0;34m\u001b[0m\u001b[0;34m\u001b[0m\u001b[0m\n\u001b[0m\u001b[1;32m     10\u001b[0m \u001b[0;34m\u001b[0m\u001b[0m\n",
            "\u001b[0;31mNameError\u001b[0m: name 'F' is not defined"
          ]
        },
        {
          "output_type": "display_data",
          "data": {
            "image/png": "[encoded data removed]",
            "text/plain": [
              "<Figure size 432x288 with 1 Axes>"
            ]
          },
          "metadata": {
            "tags": []
          }
        },
        {
          "output_type": "display_data",
          "data": {
            "image/png": "[encoded data removed]",
            "text/plain": [
              "<Figure size 432x288 with 2 Axes>"
            ]
          },
          "metadata": {
            "tags": []
          }
        }
      ]
    },
    {
      "cell_type": "markdown",
      "metadata": {
        "id": "mwvbyydfindt"
      },
      "source": [
        "# Train and Test Decomposition"
      ]
    },
    {
      "cell_type": "code",
      "metadata": {
        "id": "dv7NGK7XhWZh"
      },
      "source": [
        "n_train=np.int(np.floor(.7*n))\n",
        "n_valid=np.int(np.floor(.2*n))\n",
        "n_test=np.int(np.floor(.1*n))\n",
        "X_train, X_valid, X_test = np.split(X,[n_train , n_train+n_valid],axis=1)\n",
        "y_train, y_valid, y_test = np.split(y,[n_train , n_train+n_valid],axis=0)"
      ],
      "execution_count": null,
      "outputs": []
    },
    {
      "cell_type": "markdown",
      "metadata": {
        "id": "OIDFOtCarEgD"
      },
      "source": [
        "# Extract Factors by PCA"
      ]
    },
    {
      "cell_type": "code",
      "metadata": {
        "id": "PnIGVSwqrMDj"
      },
      "source": [
        "from sklearn.decomposition import PCA\n",
        "pca=PCA(n_components=k).fit(np.transpose(X_train))\n",
        "comp=pca.components_\n",
        "Fhat=np.matmul(comp,X_train)\n",
        "Fhat_valid=np.matmul(comp,X_valid)\n",
        "Fhat_test=np.matmul(comp,X_test)\n",
        "\n",
        "# SF=Fhat\n",
        "# SF_test=Fhat_test\n",
        "# Fhat=X_train\n",
        "# Fhat_test=X_test"
      ],
      "execution_count": null,
      "outputs": []
    },
    {
      "cell_type": "markdown",
      "metadata": {
        "id": "FCuUSwWFYL9X"
      },
      "source": [
        "# Sliced inverse regression\n",
        "\n",
        "---\n",
        "\n",
        "\n",
        "\n",
        "---\n",
        "\n",
        "\n"
      ]
    },
    {
      "cell_type": "code",
      "metadata": {
        "id": "oFUAQZ3HYRab"
      },
      "source": [
        "import numpy as np\n",
        "from numpy import linalg\n",
        "\n",
        "# Author: Russell Kunes\n",
        "# Implementing the SIR supervised data reduction method as described in the 1991 paper by Professor Ker-Chau Li\n",
        "\n",
        "\n",
        "class SIR:\n",
        "    def __init__(self, K = 2, H = 10, bins = None):\n",
        "        self.K = K\n",
        "        self.H = H\n",
        "        #default is equally spaced bins\n",
        "        self.bins = bins\n",
        "\n",
        "    def fit(self, X, Y):\n",
        "        self.X = X\n",
        "        self.Y = Y\n",
        "\n",
        "        #n is the number of observations\n",
        "        n = X.shape[0]\n",
        "        p = X.shape[1]\n",
        "\n",
        "        x_bar = np.mean(X,axis =0)\n",
        "\n",
        "\n",
        "        #compute the bins, assuming default \n",
        "        if self.bins == None:\n",
        "        \tn_h, bins = np.histogram(Y,bins = self.H)\n",
        "        else: \n",
        "        \tn_h,bins = np.histogram(Y, bins = self.bins)\n",
        "\n",
        "        #assign a bin to each observations\n",
        "        assignments = np.digitize(Y,bins)\n",
        "\n",
        "        #this is really hacky... \n",
        "        assignments[np.argmax(assignments)] -= 1\n",
        "\n",
        "        #loop through the slices, for each slice compute within slice mean\n",
        "        M = np.zeros((p,p))\n",
        "        for i in range(len(n_h)):\n",
        "\n",
        "        \th = n_h[i]\n",
        "        \tif h != 0:\n",
        "        \t\tx_h_bar = np.mean(X[assignments == i + 1],axis = 0)\n",
        "        \telif h ==0:\n",
        "        \t\tx_h_bar = np.zeros(p)\n",
        "\n",
        "        \tx_std = x_h_bar - x_bar\n",
        "\n",
        "        \tM += float(h) * np.outer(x_std,x_std)\n",
        "\n",
        "        #compute the estimate of the covariance matrix M\n",
        "        M  = float(n)**(-1) * M\n",
        "        self.M = M\n",
        "\n",
        "        #eigendecomposition of V\n",
        "        cov = np.cov(X.T)\n",
        "        V = np.dot(linalg.inv(cov),M)\n",
        "        eigenvalues, eigenvectors = linalg.eig(V)\n",
        "\n",
        "        idx = eigenvalues.argsort()[::-1]\n",
        "        eigenvalues = eigenvalues[idx]\n",
        "        eigenvectors = eigenvectors[:,idx]\n",
        "\n",
        "        #assign first K columns to beta \n",
        "        beta = eigenvectors[:,0:self.K]\n",
        "        self.beta = beta\n",
        "        self.eigenvalues = eigenvalues\n",
        "        return\n",
        "\n",
        "\n",
        "    def transform(self, X_to_predict):\n",
        "    \tbeta = self.beta \n",
        "    \treturn np.dot(X_to_predict,beta)\n",
        "\n"
      ],
      "execution_count": null,
      "outputs": []
    },
    {
      "cell_type": "markdown",
      "metadata": {
        "id": "ezC5rZWsM-wC"
      },
      "source": [
        "# New LOWESS (SinRas)\n",
        "Based on the following implementation by `agramfort`\n",
        "\n",
        "[LOWESS : Locally weighted regression](https://gist.github.com/agramfort/850437)"
      ]
    },
    {
      "cell_type": "code",
      "metadata": {
        "id": "xQIxdCK4M9yF"
      },
      "source": [
        "from math import ceil\n",
        "\n",
        "import numpy as np\n",
        "\n",
        "from scipy import linalg\n",
        "\n",
        "\n",
        "\n",
        "\n",
        "\n",
        "def lowess(x, y, x_test, f=1. / 40., iter=3):\n",
        "\n",
        "    \"\"\"lowess(x, y, f=2./3., iter=3) -> yest\n",
        "\n",
        "\n",
        "\n",
        "    Lowess smoother: Robust locally weighted regression.\n",
        "\n",
        "    The lowess function fits a nonparametric regression curve to a scatterplot.\n",
        "\n",
        "    The arrays x and y contain an equal number of elements; each pair\n",
        "\n",
        "    (x[i], y[i]) defines a data point in the scatterplot. The function returns\n",
        "\n",
        "    the estimated (smooth) values of y.\n",
        "\n",
        "\n",
        "\n",
        "    The smoothing span is given by f. A larger value for f will result in a\n",
        "\n",
        "    smoother curve. The number of robustifying iterations is given by iter. The\n",
        "\n",
        "    function will run faster with a smaller number of iterations.\n",
        "\n",
        "    \"\"\"\n",
        "\n",
        "    # Fit LOWESS to Train Data\n",
        "    ##\n",
        "    X = np.ones( (len(x),x.shape[1]+1) )\n",
        "    X[:,1:] = x\n",
        "    ## Number of Train Samples\n",
        "    n = len(x)\n",
        "    r = int(ceil(f * n))\n",
        "    p = x.shape[1]\n",
        "    #p_prime = y.shape[1]\n",
        "    ## Threshold Radius\n",
        "    h = [ np.sort( np.linalg.norm(x - x[i,:], axis = 1) )[r] for i in range(n) ]\n",
        "    ## Calculate Mutual Weights\n",
        "    ### Zero\n",
        "    w = np.zeros( (n,n) )\n",
        "    ### Add Distances for Upper Triangle\n",
        "    for i in range(n):\n",
        "        for j in range(i+1,n):\n",
        "            w[i,j] = np.linalg.norm( x[i,:] - x[j,:] )\n",
        "    ### Add Distances for Lower Triangle\n",
        "    w += w.T\n",
        "    ### Divide by Threshold Radius\n",
        "    w /= h\n",
        "    ### Clip\n",
        "    w = np.clip( w, 0.0, 1.0 )\n",
        "    ### Re-Arrange Weights\n",
        "    w = (1 - w ** 3) ** 3\n",
        "    \n",
        "    #\n",
        "    yest = np.zeros( n )\n",
        "    delta = np.ones( n )\n",
        "\n",
        "    for iteration in range(iter):\n",
        "\n",
        "        for i in range(n):\n",
        "\n",
        "            weights = delta * w[:, i]\n",
        "            \n",
        "            A = np.matmul( np.matmul( X.T, np.diag(weights) ), X )\n",
        "            b = np.matmul( np.matmul( X.T, np.diag(weights) ), y )\n",
        "            \n",
        "            beta = linalg.solve(A, b)\n",
        "            \n",
        "            yest[i] = np.matmul( X[i,:], beta )\n",
        "\n",
        "\n",
        "\n",
        "        residuals = np.linalg.norm( y - yest, axis = 0 )\n",
        "\n",
        "        s = np.median( np.abs( residuals ) )\n",
        "\n",
        "        delta = np.clip(residuals / (6.0 * s), -1, 1)\n",
        "\n",
        "        delta = (1 - delta ** 2) ** 2\n",
        "    \n",
        "    # Predict for x_test\n",
        "    n_test = len(x_test)\n",
        "    \n",
        "    h_test = [np.sort( np.linalg.norm(x - x_test[i], axis = 1) )[r] for i in range(n_test)]\n",
        "    \n",
        "    ## Calculate Mutual Weights\n",
        "    ### Zero\n",
        "    w_test = np.zeros( (n,n_test) )\n",
        "    ### Add Distances for Upper Triangle\n",
        "    for i in range(n):\n",
        "        for j in range(n_test):\n",
        "            w_test[i,j] = np.linalg.norm( x[i,:] - x_test[j,:] )\n",
        "    ### Divide by Threshold Radius\n",
        "    w_test /= h_test\n",
        "    ### Clip\n",
        "    w_test = np.clip( w_test, 0.0, 1.0 )\n",
        "    ### Re-Arrange Weights\n",
        "    w_test = (1 - w_test ** 3) ** 3\n",
        "    \n",
        "    y_test = np.matmul( w_test.T, yest ) / np.sum( w_test, axis = 0 )\n",
        "    return y_test\n"
      ],
      "execution_count": null,
      "outputs": []
    },
    {
      "cell_type": "markdown",
      "metadata": {
        "id": "xooqyXSM2Tdx"
      },
      "source": [
        "# Selecting $L$ by Validation"
      ]
    },
    {
      "cell_type": "markdown",
      "metadata": {
        "id": "_QOjbeVTh41f"
      },
      "source": [
        "##Step 1"
      ]
    },
    {
      "cell_type": "code",
      "metadata": {
        "id": "9fmdW8fyuSXq",
        "colab": {
          "base_uri": "https://localhost:8080/",
          "height": 34
        },
        "outputId": "5dc0385b-d8f1-46b4-b20e-744d79c87de2"
      },
      "source": [
        "y_train.shape"
      ],
      "execution_count": null,
      "outputs": [
        {
          "output_type": "execute_result",
          "data": {
            "text/plain": [
              "(1232,)"
            ]
          },
          "metadata": {
            "tags": []
          },
          "execution_count": 136
        }
      ]
    },
    {
      "cell_type": "code",
      "metadata": {
        "id": "5EwVEj9A2Sj7",
        "colab": {
          "base_uri": "https://localhost:8080/",
          "height": 85
        },
        "outputId": "cb221598-7f1d-4449-ee58-dd1e1ea1d2f8"
      },
      "source": [
        "import matplotlib.pyplot as plt\n",
        "eigs = np.zeros((k,1))\n",
        "eig_mean=np.zeros((k-1,n_train-m))\n",
        "for L in range(1,k):\n",
        "  #for L in range(1,k):\n",
        "  for j in range(n_train-m):\n",
        "      #start=int(j*n_train/100)\n",
        "      start=j\n",
        "      #end=int((j+1)*n_train/100)-1\n",
        "      end=j+m-1\n",
        "      sir_ = SIR(K=L,H=10)\n",
        "      #print(start)\n",
        "      #print(j)\n",
        "      sir_.fit(np.transpose(Fhat[:,start:end]),y_train[start:end])\n",
        "      #SF=sir_.transform(np.transpose(Fhat[:,start:end]))\n",
        "      #SF=np.transpose(SF)\n",
        "      eigs=sir_.eigenvalues\n",
        "      eigs=np.sort(eigs)\n",
        "      eigs=eigs[::-1]\n",
        "      eig_mean[L-1,j]=np.average(np.array(eigs[L:k]))\n",
        "#plt.hist(eig_mean)\n",
        "#np.mean(eig_mean)\n",
        "print(eig_mean[:,1])"
      ],
      "execution_count": null,
      "outputs": [
        {
          "output_type": "stream",
          "text": [
            "/usr/local/lib/python3.6/dist-packages/ipykernel_launcher.py:20: ComplexWarning: Casting complex values to real discards the imaginary part\n"
          ],
          "name": "stderr"
        },
        {
          "output_type": "stream",
          "text": [
            "[ 1.53008396e-01  1.07385255e-01  7.74725449e-02  5.51900522e-02\n",
            "  3.57459483e-02  2.20362470e-02  4.21238822e-03  3.13038522e-17\n",
            " -2.26826310e-17]\n"
          ],
          "name": "stdout"
        }
      ]
    },
    {
      "cell_type": "markdown",
      "metadata": {
        "id": "FnOeCeYkiIyM"
      },
      "source": [
        "##Step 2 & 3"
      ]
    },
    {
      "cell_type": "code",
      "metadata": {
        "id": "Hg7d2w0FGEay",
        "colab": {
          "base_uri": "https://localhost:8080/",
          "height": 51
        },
        "outputId": "ccfbd928-e8e1-427e-d180-fcac9d879679"
      },
      "source": [
        "L=3\n",
        "sir_ = SIR(K=L,H=10)\n",
        "sir_.fit(np.transpose(Fhat),y_train)\n",
        "SF=sir_.transform(np.transpose(Fhat))\n",
        "SF=np.transpose(SF)\n",
        "SF_valid=sir_.transform(np.transpose(Fhat_valid))\n",
        "SF_valid=np.transpose(SF_valid)\n",
        "SF_test=sir_.transform(np.transpose(Fhat_test))\n",
        "SF_test=np.transpose(SF_test)\n",
        "eig=sir_.eigenvalues\n",
        "print(np.shape(Fhat))\n",
        "print(np.shape(SF_test))\n",
        "#plt.plot(np.transpose(SF_test))"
      ],
      "execution_count": null,
      "outputs": [
        {
          "output_type": "stream",
          "text": [
            "(10, 1232)\n",
            "(3, 177)\n"
          ],
          "name": "stdout"
        }
      ]
    },
    {
      "cell_type": "code",
      "metadata": {
        "id": "U2MZ6EStiM-s",
        "colab": {
          "base_uri": "https://localhost:8080/",
          "height": 408
        },
        "outputId": "82e52f8a-e8f2-4ba4-a7fa-dec82e30bdb8"
      },
      "source": [
        "\n",
        "import matplotlib.pyplot as plt\n",
        "\n",
        "#L=3\n",
        "#sir_ = SIR(K=L,H=10)\n",
        "#sir_.fit(np.transpose(Fhat_valid),y_valid)\n",
        "#SF_valid=sir_.transform(np.transpose(Fhat_valid))\n",
        "#SF_valid=np.transpose(SF_valid)\n",
        "\n",
        "eigs = np.zeros((k,1))\n",
        "eig_mean_valid=np.zeros((k-1,n_valid-m))\n",
        "for L in range(1,k):\n",
        "  print(L)\n",
        "  sir_ = SIR(K=L,H=10)\n",
        "  sir_.fit(np.transpose(Fhat),y_train)\n",
        "  SF=sir_.transform(np.transpose(Fhat))\n",
        "  SF=np.transpose(SF)\n",
        "  y_train_pred=lowess(np.transpose(SF[0:L,:]),y_train,np.transpose(SF[0:L,:]),f=1/50)\n",
        "  for j in range(n_valid-m):\n",
        "      #start=int(j*n_train/100)\n",
        "      start=j\n",
        "      #end=int((j+1)*n_train/100)-1\n",
        "      end=j+m-1\n",
        "      sir_ = SIR(K=L,H=10)\n",
        "      #print(start)\n",
        "      #print(j)\n",
        "      sir_.fit(np.transpose(Fhat[:,start:end]),y_train_pred[start:end])\n",
        "      eigs=sir_.eigenvalues\n",
        "      eigs=np.sort(eigs)\n",
        "      eigs=eigs[::-1]\n",
        "      eig_mean_valid[L-1,j]=np.average(np.array(eigs[L:k]))\n",
        "  #print(eig_mean[L-1,])\n",
        "#plt.hist(eig_mean_valid)\n",
        "print(eig_mean_valid)"
      ],
      "execution_count": null,
      "outputs": [
        {
          "output_type": "stream",
          "text": [
            "1\n"
          ],
          "name": "stdout"
        },
        {
          "output_type": "stream",
          "text": [
            "/usr/local/lib/python3.6/dist-packages/ipykernel_launcher.py:31: ComplexWarning: Casting complex values to real discards the imaginary part\n"
          ],
          "name": "stderr"
        },
        {
          "output_type": "stream",
          "text": [
            "2\n",
            "3\n",
            "4\n",
            "5\n",
            "6\n",
            "7\n",
            "8\n",
            "9\n",
            "[[ 1.75415553e-01  1.81089512e-01  1.88110249e-01 ...  1.37730226e-01\n",
            "   1.32801894e-01  1.39281831e-01]\n",
            " [ 1.45702247e-01  1.47764090e-01  1.48288866e-01 ...  9.23979085e-02\n",
            "   9.19379692e-02  9.97057166e-02]\n",
            " [ 9.57019298e-02  1.00295061e-01  9.49156261e-02 ...  7.62633561e-02\n",
            "   7.33239077e-02  6.96333201e-02]\n",
            " ...\n",
            " [-1.31574354e-17  2.97192345e-17 -2.18960016e-17 ...  3.36490274e-03\n",
            "   3.61742014e-03  3.77929190e-03]\n",
            " [ 4.22860105e-03  2.11461343e-03  2.13595987e-03 ...  3.03523826e-04\n",
            "   2.14040681e-04  7.29954299e-05]\n",
            " [ 2.36083097e-17  2.07959991e-17  4.11350880e-17 ...  8.43946084e-17\n",
            "  -5.66868314e-17  7.94856646e-18]]\n"
          ],
          "name": "stdout"
        }
      ]
    },
    {
      "cell_type": "code",
      "metadata": {
        "id": "XNLTZF8uLSF5",
        "colab": {
          "base_uri": "https://localhost:8080/",
          "height": 68
        },
        "outputId": "db59c489-69a6-44ba-8a79-435f6a5d19a7"
      },
      "source": [
        "\n",
        "print(np.mean(eig_mean))\n",
        "print(np.mean(eig_mean_valid))\n",
        "print(np.size(eig_mean_valid))"
      ],
      "execution_count": null,
      "outputs": [
        {
          "output_type": "stream",
          "text": [
            "0.04579117210119092\n",
            "0.056389952860329565\n",
            "2718\n"
          ],
          "name": "stdout"
        }
      ]
    },
    {
      "cell_type": "markdown",
      "metadata": {
        "id": "Fp_aEvvwAuRj"
      },
      "source": [
        "##Step 4"
      ]
    },
    {
      "cell_type": "code",
      "metadata": {
        "id": "b-PzD5tABV0u",
        "colab": {
          "base_uri": "https://localhost:8080/",
          "height": 320
        },
        "outputId": "552b2b9b-e084-4157-933a-74e757745b44"
      },
      "source": [
        "from scipy import stats\n",
        "import matplotlib.pyplot as plt\n",
        "\n",
        "x = np.arange(1, k)\n",
        "pvalue=np.zeros(k-1)\n",
        "\n",
        "for L in range (1,k):\n",
        "  test_result=stats.ttest_ind(eig_mean[L-1,:],eig_mean_valid[L-1,:],equal_var=False)\n",
        "  pvalue[L-1]=test_result.pvalue\n",
        "\n",
        "plt.plot(x,pvalue)\n",
        "#stats.ks_2samp(eig_mean,eig_mean_valid)\n",
        "print(pvalue)"
      ],
      "execution_count": null,
      "outputs": [
        {
          "output_type": "stream",
          "text": [
            "[1.77611347e-02 2.16930922e-55 8.30817742e-41 6.05733865e-39\n",
            " 5.85614568e-16 4.37966023e-18 1.38234185e-05 1.22222295e-04\n",
            " 2.30133137e-05]\n"
          ],
          "name": "stdout"
        },
        {
          "output_type": "display_data",
          "data": {
            "image/png": "[encoded data removed]",
            "text/plain": [
              "<Figure size 432x288 with 1 Axes>"
            ]
          },
          "metadata": {
            "tags": []
          }
        }
      ]
    },
    {
      "cell_type": "markdown",
      "metadata": {
        "id": "LOJ2DBr6xthB"
      },
      "source": [
        "# PCA + SIR + Local"
      ]
    },
    {
      "cell_type": "code",
      "metadata": {
        "id": "Gd38Im7mZDpo",
        "colab": {
          "base_uri": "https://localhost:8080/",
          "height": 51
        },
        "outputId": "deb31e45-9f57-4a47-f107-597f7eaebc33"
      },
      "source": [
        "L=4\n",
        "sir_ = SIR(K=L,H=10)\n",
        "sir_.fit(np.transpose(Fhat),y_train)\n",
        "SF=sir_.transform(np.transpose(Fhat))\n",
        "SF=np.transpose(SF)\n",
        "SF_valid=sir_.transform(np.transpose(Fhat_valid))\n",
        "SF_valid=np.transpose(SF_valid)\n",
        "SF_test=sir_.transform(np.transpose(Fhat_test))\n",
        "SF_test=np.transpose(SF_test)\n",
        "#eig=sir_.eigenvalues\n",
        "print(np.shape(Fhat))\n",
        "print(np.shape(SF_test))\n",
        "#plt.plot(np.transpose(SF_test))"
      ],
      "execution_count": null,
      "outputs": [
        {
          "output_type": "stream",
          "text": [
            "(10, 1232)\n",
            "(4, 177)\n"
          ],
          "name": "stdout"
        }
      ]
    },
    {
      "cell_type": "code",
      "metadata": {
        "id": "4ufYxS4IcCbP",
        "colab": {
          "base_uri": "https://localhost:8080/",
          "height": 34
        },
        "outputId": "2db95820-d371-4558-b1e4-e9cbfc44d091"
      },
      "source": [
        "yq=lowess(np.transpose(SF),y_train,np.transpose(SF_valid),f=1/45)\n",
        "np.shape(yq)"
      ],
      "execution_count": null,
      "outputs": [
        {
          "output_type": "execute_result",
          "data": {
            "text/plain": [
              "(352,)"
            ]
          },
          "metadata": {
            "tags": []
          },
          "execution_count": 192
        }
      ]
    },
    {
      "cell_type": "markdown",
      "metadata": {
        "id": "Q5zpeD5Qi45q"
      },
      "source": [
        "\n",
        "# PCA + Local"
      ]
    },
    {
      "cell_type": "code",
      "metadata": {
        "id": "WoII7C4Ji4NK",
        "colab": {
          "base_uri": "https://localhost:8080/",
          "height": 299
        },
        "outputId": "c2590a5c-fe51-4634-b2f3-4dfed6e876b9"
      },
      "source": [
        "yq=lowess(np.transpose(Fhat),y_train,np.transpose(Fhat_valid),f=1/45)\n",
        "np.shape(yq)"
      ],
      "execution_count": null,
      "outputs": [
        {
          "output_type": "error",
          "ename": "KeyboardInterrupt",
          "evalue": "ignored",
          "traceback": [
            "\u001b[0;31m---------------------------------------------------------------------------\u001b[0m",
            "\u001b[0;31mKeyboardInterrupt\u001b[0m                         Traceback (most recent call last)",
            "\u001b[0;32m<ipython-input-193-f11372b09abe>\u001b[0m in \u001b[0;36m<module>\u001b[0;34m()\u001b[0m\n\u001b[0;32m----> 1\u001b[0;31m \u001b[0myq\u001b[0m\u001b[0;34m=\u001b[0m\u001b[0mlowess\u001b[0m\u001b[0;34m(\u001b[0m\u001b[0mnp\u001b[0m\u001b[0;34m.\u001b[0m\u001b[0mtranspose\u001b[0m\u001b[0;34m(\u001b[0m\u001b[0mFhat\u001b[0m\u001b[0;34m)\u001b[0m\u001b[0;34m,\u001b[0m\u001b[0my_train\u001b[0m\u001b[0;34m,\u001b[0m\u001b[0mnp\u001b[0m\u001b[0;34m.\u001b[0m\u001b[0mtranspose\u001b[0m\u001b[0;34m(\u001b[0m\u001b[0mFhat_valid\u001b[0m\u001b[0;34m)\u001b[0m\u001b[0;34m,\u001b[0m\u001b[0mf\u001b[0m\u001b[0;34m=\u001b[0m\u001b[0;36m1\u001b[0m\u001b[0;34m/\u001b[0m\u001b[0;36m45\u001b[0m\u001b[0;34m)\u001b[0m\u001b[0;34m\u001b[0m\u001b[0;34m\u001b[0m\u001b[0m\n\u001b[0m\u001b[1;32m      2\u001b[0m \u001b[0mnp\u001b[0m\u001b[0;34m.\u001b[0m\u001b[0mshape\u001b[0m\u001b[0;34m(\u001b[0m\u001b[0myq\u001b[0m\u001b[0;34m)\u001b[0m\u001b[0;34m\u001b[0m\u001b[0;34m\u001b[0m\u001b[0m\n",
            "\u001b[0;32m<ipython-input-135-5d745f9317e6>\u001b[0m in \u001b[0;36mlowess\u001b[0;34m(x, y, x_test, f, iter)\u001b[0m\n\u001b[1;32m     72\u001b[0m             \u001b[0mweights\u001b[0m \u001b[0;34m=\u001b[0m \u001b[0mdelta\u001b[0m \u001b[0;34m*\u001b[0m \u001b[0mw\u001b[0m\u001b[0;34m[\u001b[0m\u001b[0;34m:\u001b[0m\u001b[0;34m,\u001b[0m \u001b[0mi\u001b[0m\u001b[0;34m]\u001b[0m\u001b[0;34m\u001b[0m\u001b[0;34m\u001b[0m\u001b[0m\n\u001b[1;32m     73\u001b[0m \u001b[0;34m\u001b[0m\u001b[0m\n\u001b[0;32m---> 74\u001b[0;31m             \u001b[0mA\u001b[0m \u001b[0;34m=\u001b[0m \u001b[0mnp\u001b[0m\u001b[0;34m.\u001b[0m\u001b[0mmatmul\u001b[0m\u001b[0;34m(\u001b[0m \u001b[0mnp\u001b[0m\u001b[0;34m.\u001b[0m\u001b[0mmatmul\u001b[0m\u001b[0;34m(\u001b[0m \u001b[0mX\u001b[0m\u001b[0;34m.\u001b[0m\u001b[0mT\u001b[0m\u001b[0;34m,\u001b[0m \u001b[0mnp\u001b[0m\u001b[0;34m.\u001b[0m\u001b[0mdiag\u001b[0m\u001b[0;34m(\u001b[0m\u001b[0mweights\u001b[0m\u001b[0;34m)\u001b[0m \u001b[0;34m)\u001b[0m\u001b[0;34m,\u001b[0m \u001b[0mX\u001b[0m \u001b[0;34m)\u001b[0m\u001b[0;34m\u001b[0m\u001b[0;34m\u001b[0m\u001b[0m\n\u001b[0m\u001b[1;32m     75\u001b[0m             \u001b[0mb\u001b[0m \u001b[0;34m=\u001b[0m \u001b[0mnp\u001b[0m\u001b[0;34m.\u001b[0m\u001b[0mmatmul\u001b[0m\u001b[0;34m(\u001b[0m \u001b[0mnp\u001b[0m\u001b[0;34m.\u001b[0m\u001b[0mmatmul\u001b[0m\u001b[0;34m(\u001b[0m \u001b[0mX\u001b[0m\u001b[0;34m.\u001b[0m\u001b[0mT\u001b[0m\u001b[0;34m,\u001b[0m \u001b[0mnp\u001b[0m\u001b[0;34m.\u001b[0m\u001b[0mdiag\u001b[0m\u001b[0;34m(\u001b[0m\u001b[0mweights\u001b[0m\u001b[0;34m)\u001b[0m \u001b[0;34m)\u001b[0m\u001b[0;34m,\u001b[0m \u001b[0my\u001b[0m \u001b[0;34m)\u001b[0m\u001b[0;34m\u001b[0m\u001b[0;34m\u001b[0m\u001b[0m\n\u001b[1;32m     76\u001b[0m \u001b[0;34m\u001b[0m\u001b[0m\n",
            "\u001b[0;31mKeyboardInterrupt\u001b[0m: "
          ]
        }
      ]
    },
    {
      "cell_type": "markdown",
      "metadata": {
        "id": "Wcpp6XwCjHlO"
      },
      "source": [
        "# Result"
      ]
    },
    {
      "cell_type": "code",
      "metadata": {
        "id": "2S1uBQSExh8c",
        "colab": {
          "base_uri": "https://localhost:8080/",
          "height": 303
        },
        "outputId": "868251bc-504b-486a-ebed-0bfe7d7621d3"
      },
      "source": [
        "import matplotlib.pyplot as plt\n",
        "\n",
        "## In sample\n",
        "#R2is=1-(np.mean((yq-y_train)**2))/(np.mean((y_train-np.mean(y_train))**2))\n",
        "#print(R2is)\n",
        "\n",
        "#fig1, ax1 = plt.subplots()\n",
        "#ax1.plot(y_train)\n",
        "#ax1.plot(yq)\n",
        "\n",
        "## Out of Sample\n",
        "R2os=1-(np.mean((yq-y_valid)**2))/(np.mean((y_valid-np.mean(y_valid))**2))\n",
        "print(R2os)\n",
        "\n",
        "fig1, ax1 = plt.subplots()\n",
        "ax1.plot(y_valid)\n",
        "ax1.plot(yq)\n",
        "#ax1.set_title('PCA+SIR+LinReg')\n",
        "\n"
      ],
      "execution_count": null,
      "outputs": [
        {
          "output_type": "stream",
          "text": [
            "0.29250934860305045\n"
          ],
          "name": "stdout"
        },
        {
          "output_type": "execute_result",
          "data": {
            "text/plain": [
              "[<matplotlib.lines.Line2D at 0x7f014c2f9160>]"
            ]
          },
          "metadata": {
            "tags": []
          },
          "execution_count": 195
        },
        {
          "output_type": "display_data",
          "data": {
            "image/png": "[encoded data removed]",
            "text/plain": [
              "<Figure size 432x288 with 1 Axes>"
            ]
          },
          "metadata": {
            "tags": []
          }
        }
      ]
    },
    {
      "cell_type": "code",
      "metadata": {
        "id": "IPpqmtBP4ptE"
      },
      "source": [
        ""
      ],
      "execution_count": null,
      "outputs": []
    }
  ]
}